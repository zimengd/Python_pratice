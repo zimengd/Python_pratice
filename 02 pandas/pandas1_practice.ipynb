{
 "cells": [
  {
   "cell_type": "code",
   "execution_count": 2,
   "metadata": {},
   "outputs": [
    {
     "name": "stdout",
     "output_type": "stream",
     "text": [
      "NDB_No               int64\n",
      "Shrt_Desc           object\n",
      "Water_(g)          float64\n",
      "Energ_Kcal           int64\n",
      "Protein_(g)        float64\n",
      "Lipid_Tot_(g)      float64\n",
      "Ash_(g)            float64\n",
      "Carbohydrt_(g)     float64\n",
      "Fiber_TD_(g)       float64\n",
      "Sugar_Tot_(g)      float64\n",
      "Calcium_(mg)       float64\n",
      "Iron_(mg)          float64\n",
      "Magnesium_(mg)     float64\n",
      "Phosphorus_(mg)    float64\n",
      "Potassium_(mg)     float64\n",
      "Sodium_(mg)        float64\n",
      "Zinc_(mg)          float64\n",
      "Copper_(mg)        float64\n",
      "Manganese_(mg)     float64\n",
      "Selenium_(mcg)     float64\n",
      "Vit_C_(mg)         float64\n",
      "Thiamin_(mg)       float64\n",
      "Riboflavin_(mg)    float64\n",
      "Niacin_(mg)        float64\n",
      "Vit_B6_(mg)        float64\n",
      "Vit_B12_(mcg)      float64\n",
      "Vit_A_IU           float64\n",
      "Vit_A_RAE          float64\n",
      "Vit_E_(mg)         float64\n",
      "Vit_D_mcg          float64\n",
      "Vit_D_IU           float64\n",
      "Vit_K_(mcg)        float64\n",
      "FA_Sat_(g)         float64\n",
      "FA_Mono_(g)        float64\n",
      "FA_Poly_(g)        float64\n",
      "Cholestrl_(mg)     float64\n",
      "dtype: object\n"
     ]
    }
   ],
   "source": [
    "import pandas as pd\n",
    "food_info = pd.read_csv('food_info.csv')\n",
    "print(food_info.dtypes)"
   ]
  },
  {
   "cell_type": "code",
   "execution_count": 3,
   "metadata": {},
   "outputs": [
    {
     "name": "stdout",
     "output_type": "stream",
     "text": [
      "   NDB_No                 Shrt_Desc  Water_(g)  Energ_Kcal  Protein_(g)  \\\n",
      "0    1001          BUTTER WITH SALT      15.87         717         0.85   \n",
      "1    1002  BUTTER WHIPPED WITH SALT      15.87         717         0.85   \n",
      "2    1003      BUTTER OIL ANHYDROUS       0.24         876         0.28   \n",
      "3    1004               CHEESE BLUE      42.41         353        21.40   \n",
      "4    1005              CHEESE BRICK      41.11         371        23.24   \n",
      "\n",
      "   Lipid_Tot_(g)  Ash_(g)  Carbohydrt_(g)  Fiber_TD_(g)  Sugar_Tot_(g)  \\\n",
      "0          81.11     2.11            0.06           0.0           0.06   \n",
      "1          81.11     2.11            0.06           0.0           0.06   \n",
      "2          99.48     0.00            0.00           0.0           0.00   \n",
      "3          28.74     5.11            2.34           0.0           0.50   \n",
      "4          29.68     3.18            2.79           0.0           0.51   \n",
      "\n",
      "        ...        Vit_A_IU  Vit_A_RAE  Vit_E_(mg)  Vit_D_mcg  Vit_D_IU  \\\n",
      "0       ...          2499.0      684.0        2.32        1.5      60.0   \n",
      "1       ...          2499.0      684.0        2.32        1.5      60.0   \n",
      "2       ...          3069.0      840.0        2.80        1.8      73.0   \n",
      "3       ...           721.0      198.0        0.25        0.5      21.0   \n",
      "4       ...          1080.0      292.0        0.26        0.5      22.0   \n",
      "\n",
      "   Vit_K_(mcg)  FA_Sat_(g)  FA_Mono_(g)  FA_Poly_(g)  Cholestrl_(mg)  \n",
      "0          7.0      51.368       21.021        3.043           215.0  \n",
      "1          7.0      50.489       23.426        3.012           219.0  \n",
      "2          8.6      61.924       28.732        3.694           256.0  \n",
      "3          2.4      18.669        7.778        0.800            75.0  \n",
      "4          2.5      18.764        8.598        0.784            94.0  \n",
      "\n",
      "[5 rows x 36 columns]\n",
      "------\n",
      "Index(['NDB_No', 'Shrt_Desc', 'Water_(g)', 'Energ_Kcal', 'Protein_(g)',\n",
      "       'Lipid_Tot_(g)', 'Ash_(g)', 'Carbohydrt_(g)', 'Fiber_TD_(g)',\n",
      "       'Sugar_Tot_(g)', 'Calcium_(mg)', 'Iron_(mg)', 'Magnesium_(mg)',\n",
      "       'Phosphorus_(mg)', 'Potassium_(mg)', 'Sodium_(mg)', 'Zinc_(mg)',\n",
      "       'Copper_(mg)', 'Manganese_(mg)', 'Selenium_(mcg)', 'Vit_C_(mg)',\n",
      "       'Thiamin_(mg)', 'Riboflavin_(mg)', 'Niacin_(mg)', 'Vit_B6_(mg)',\n",
      "       'Vit_B12_(mcg)', 'Vit_A_IU', 'Vit_A_RAE', 'Vit_E_(mg)', 'Vit_D_mcg',\n",
      "       'Vit_D_IU', 'Vit_K_(mcg)', 'FA_Sat_(g)', 'FA_Mono_(g)', 'FA_Poly_(g)',\n",
      "       'Cholestrl_(mg)'],\n",
      "      dtype='object')\n",
      "------\n",
      "(8618, 36)\n"
     ]
    }
   ],
   "source": [
    "first_rows = food_info.head()\n",
    "print(first_rows)\n",
    "print('------')\n",
    "print(food_info.columns)\n",
    "print('------')\n",
    "print(food_info.shape)  # 8618 rows，36 columns"
   ]
  },
  {
   "cell_type": "code",
   "execution_count": 15,
   "metadata": {},
   "outputs": [
    {
     "name": "stdout",
     "output_type": "stream",
     "text": [
      "      NDB_No         Shrt_Desc  Water_(g)  Energ_Kcal  Protein_(g)  \\\n",
      "8615   90480        SYRUP CANE       26.0         269          0.0   \n",
      "8616   90560         SNAIL RAW       79.2          90         16.1   \n",
      "8617   93600  TURTLE GREEN RAW       78.5          89         19.8   \n",
      "\n",
      "      Lipid_Tot_(g)  Ash_(g)  Carbohydrt_(g)  Fiber_TD_(g)  Sugar_Tot_(g)  \\\n",
      "8615            0.0     0.86           73.14           0.0           73.2   \n",
      "8616            1.4     1.30            2.00           0.0            0.0   \n",
      "8617            0.5     1.20            0.00           0.0            0.0   \n",
      "\n",
      "           ...        Vit_A_IU  Vit_A_RAE  Vit_E_(mg)  Vit_D_mcg  Vit_D_IU  \\\n",
      "8615       ...             0.0        0.0         0.0        0.0       0.0   \n",
      "8616       ...           100.0       30.0         5.0        0.0       0.0   \n",
      "8617       ...           100.0       30.0         0.5        0.0       0.0   \n",
      "\n",
      "      Vit_K_(mcg)  FA_Sat_(g)  FA_Mono_(g)  FA_Poly_(g)  Cholestrl_(mg)  \n",
      "8615          0.0       0.000        0.000        0.000             0.0  \n",
      "8616          0.1       0.361        0.259        0.252            50.0  \n",
      "8617          0.1       0.127        0.088        0.170            50.0  \n",
      "\n",
      "[3 rows x 36 columns]\n"
     ]
    }
   ],
   "source": [
    "last_rows = food_info.tail(3)\n",
    "print(last_rows)"
   ]
  },
  {
   "cell_type": "code",
   "execution_count": 4,
   "metadata": {},
   "outputs": [
    {
     "name": "stdout",
     "output_type": "stream",
     "text": [
      "NDB_No                         1001\n",
      "Shrt_Desc          BUTTER WITH SALT\n",
      "Water_(g)                     15.87\n",
      "Energ_Kcal                      717\n",
      "Protein_(g)                    0.85\n",
      "Lipid_Tot_(g)                 81.11\n",
      "Ash_(g)                        2.11\n",
      "Carbohydrt_(g)                 0.06\n",
      "Fiber_TD_(g)                      0\n",
      "Sugar_Tot_(g)                  0.06\n",
      "Calcium_(mg)                     24\n",
      "Iron_(mg)                      0.02\n",
      "Magnesium_(mg)                    2\n",
      "Phosphorus_(mg)                  24\n",
      "Potassium_(mg)                   24\n",
      "Sodium_(mg)                     643\n",
      "Zinc_(mg)                      0.09\n",
      "Copper_(mg)                       0\n",
      "Manganese_(mg)                    0\n",
      "Selenium_(mcg)                    1\n",
      "Vit_C_(mg)                        0\n",
      "Thiamin_(mg)                  0.005\n",
      "Riboflavin_(mg)               0.034\n",
      "Niacin_(mg)                   0.042\n",
      "Vit_B6_(mg)                   0.003\n",
      "Vit_B12_(mcg)                  0.17\n",
      "Vit_A_IU                       2499\n",
      "Vit_A_RAE                       684\n",
      "Vit_E_(mg)                     2.32\n",
      "Vit_D_mcg                       1.5\n",
      "Vit_D_IU                         60\n",
      "Vit_K_(mcg)                       7\n",
      "FA_Sat_(g)                   51.368\n",
      "FA_Mono_(g)                  21.021\n",
      "FA_Poly_(g)                   3.043\n",
      "Cholestrl_(mg)                  215\n",
      "Name: 0, dtype: object\n"
     ]
    }
   ],
   "source": [
    "print(food_info.loc[0])"
   ]
  },
  {
   "cell_type": "code",
   "execution_count": 5,
   "metadata": {},
   "outputs": [
    {
     "name": "stdout",
     "output_type": "stream",
     "text": [
      "NDB_No                         1007\n",
      "Shrt_Desc          CHEESE CAMEMBERT\n",
      "Water_(g)                      51.8\n",
      "Energ_Kcal                      300\n",
      "Protein_(g)                    19.8\n",
      "Lipid_Tot_(g)                 24.26\n",
      "Ash_(g)                        3.68\n",
      "Carbohydrt_(g)                 0.46\n",
      "Fiber_TD_(g)                      0\n",
      "Sugar_Tot_(g)                  0.46\n",
      "Calcium_(mg)                    388\n",
      "Iron_(mg)                      0.33\n",
      "Magnesium_(mg)                   20\n",
      "Phosphorus_(mg)                 347\n",
      "Potassium_(mg)                  187\n",
      "Sodium_(mg)                     842\n",
      "Zinc_(mg)                      2.38\n",
      "Copper_(mg)                   0.021\n",
      "Manganese_(mg)                0.038\n",
      "Selenium_(mcg)                 14.5\n",
      "Vit_C_(mg)                        0\n",
      "Thiamin_(mg)                  0.028\n",
      "Riboflavin_(mg)               0.488\n",
      "Niacin_(mg)                    0.63\n",
      "Vit_B6_(mg)                   0.227\n",
      "Vit_B12_(mcg)                   1.3\n",
      "Vit_A_IU                        820\n",
      "Vit_A_RAE                       241\n",
      "Vit_E_(mg)                     0.21\n",
      "Vit_D_mcg                       0.4\n",
      "Vit_D_IU                         18\n",
      "Vit_K_(mcg)                       2\n",
      "FA_Sat_(g)                   15.259\n",
      "FA_Mono_(g)                   7.023\n",
      "FA_Poly_(g)                   0.724\n",
      "Cholestrl_(mg)                   72\n",
      "Name: 6, dtype: object\n"
     ]
    }
   ],
   "source": [
    "print(food_info.loc[6])"
   ]
  },
  {
   "cell_type": "code",
   "execution_count": 7,
   "metadata": {},
   "outputs": [
    {
     "name": "stdout",
     "output_type": "stream",
     "text": [
      "NDB_No                                                 31027\n",
      "Shrt_Desc          POTATOES YEL FLESHED FRENCH FR FRZ UNPREP\n",
      "Water_(g)                                              65.04\n",
      "Energ_Kcal                                               162\n",
      "Protein_(g)                                             2.47\n",
      "Lipid_Tot_(g)                                           5.84\n",
      "Ash_(g)                                                 1.64\n",
      "Carbohydrt_(g)                                         25.01\n",
      "Fiber_TD_(g)                                             2.2\n",
      "Sugar_Tot_(g)                                           0.37\n",
      "Calcium_(mg)                                               9\n",
      "Iron_(mg)                                               0.48\n",
      "Magnesium_(mg)                                           NaN\n",
      "Phosphorus_(mg)                                          NaN\n",
      "Potassium_(mg)                                           447\n",
      "Sodium_(mg)                                              300\n",
      "Zinc_(mg)                                                NaN\n",
      "Copper_(mg)                                              NaN\n",
      "Manganese_(mg)                                           NaN\n",
      "Selenium_(mcg)                                           NaN\n",
      "Vit_C_(mg)                                              10.9\n",
      "Thiamin_(mg)                                             NaN\n",
      "Riboflavin_(mg)                                          NaN\n",
      "Niacin_(mg)                                              NaN\n",
      "Vit_B6_(mg)                                              NaN\n",
      "Vit_B12_(mcg)                                            NaN\n",
      "Vit_A_IU                                                   0\n",
      "Vit_A_RAE                                                NaN\n",
      "Vit_E_(mg)                                               NaN\n",
      "Vit_D_mcg                                                NaN\n",
      "Vit_D_IU                                                 NaN\n",
      "Vit_K_(mcg)                                              NaN\n",
      "FA_Sat_(g)                                             1.427\n",
      "FA_Mono_(g)                                              NaN\n",
      "FA_Poly_(g)                                              NaN\n",
      "Cholestrl_(mg)                                             0\n",
      "Name: 8067, dtype: object\n"
     ]
    }
   ],
   "source": [
    "print(food_info.loc[8067])"
   ]
  },
  {
   "cell_type": "code",
   "execution_count": 8,
   "metadata": {},
   "outputs": [
    {
     "name": "stdout",
     "output_type": "stream",
     "text": [
      "   NDB_No         Shrt_Desc  Water_(g)  Energ_Kcal  Protein_(g)  \\\n",
      "3    1004       CHEESE BLUE      42.41         353        21.40   \n",
      "4    1005      CHEESE BRICK      41.11         371        23.24   \n",
      "5    1006       CHEESE BRIE      48.42         334        20.75   \n",
      "6    1007  CHEESE CAMEMBERT      51.80         300        19.80   \n",
      "\n",
      "   Lipid_Tot_(g)  Ash_(g)  Carbohydrt_(g)  Fiber_TD_(g)  Sugar_Tot_(g)  \\\n",
      "3          28.74     5.11            2.34           0.0           0.50   \n",
      "4          29.68     3.18            2.79           0.0           0.51   \n",
      "5          27.68     2.70            0.45           0.0           0.45   \n",
      "6          24.26     3.68            0.46           0.0           0.46   \n",
      "\n",
      "        ...        Vit_A_IU  Vit_A_RAE  Vit_E_(mg)  Vit_D_mcg  Vit_D_IU  \\\n",
      "3       ...           721.0      198.0        0.25        0.5      21.0   \n",
      "4       ...          1080.0      292.0        0.26        0.5      22.0   \n",
      "5       ...           592.0      174.0        0.24        0.5      20.0   \n",
      "6       ...           820.0      241.0        0.21        0.4      18.0   \n",
      "\n",
      "   Vit_K_(mcg)  FA_Sat_(g)  FA_Mono_(g)  FA_Poly_(g)  Cholestrl_(mg)  \n",
      "3          2.4      18.669        7.778        0.800            75.0  \n",
      "4          2.5      18.764        8.598        0.784            94.0  \n",
      "5          2.3      17.410        8.013        0.826           100.0  \n",
      "6          2.0      15.259        7.023        0.724            72.0  \n",
      "\n",
      "[4 rows x 36 columns]\n"
     ]
    }
   ],
   "source": [
    "print(food_info.loc[3:6])"
   ]
  },
  {
   "cell_type": "code",
   "execution_count": 11,
   "metadata": {},
   "outputs": [
    {
     "name": "stdout",
     "output_type": "stream",
     "text": [
      "0        1001\n",
      "1        1002\n",
      "2        1003\n",
      "3        1004\n",
      "4        1005\n",
      "5        1006\n",
      "6        1007\n",
      "7        1008\n",
      "8        1009\n",
      "9        1010\n",
      "10       1011\n",
      "11       1012\n",
      "12       1013\n",
      "13       1014\n",
      "14       1015\n",
      "15       1016\n",
      "16       1017\n",
      "17       1018\n",
      "18       1019\n",
      "19       1020\n",
      "20       1021\n",
      "21       1022\n",
      "22       1023\n",
      "23       1024\n",
      "24       1025\n",
      "25       1026\n",
      "26       1027\n",
      "27       1028\n",
      "28       1029\n",
      "29       1030\n",
      "        ...  \n",
      "8588    43544\n",
      "8589    43546\n",
      "8590    43550\n",
      "8591    43566\n",
      "8592    43570\n",
      "8593    43572\n",
      "8594    43585\n",
      "8595    43589\n",
      "8596    43595\n",
      "8597    43597\n",
      "8598    43598\n",
      "8599    44005\n",
      "8600    44018\n",
      "8601    44048\n",
      "8602    44055\n",
      "8603    44061\n",
      "8604    44074\n",
      "8605    44110\n",
      "8606    44158\n",
      "8607    44203\n",
      "8608    44258\n",
      "8609    44259\n",
      "8610    44260\n",
      "8611    48052\n",
      "8612    80200\n",
      "8613    83110\n",
      "8614    90240\n",
      "8615    90480\n",
      "8616    90560\n",
      "8617    93600\n",
      "Name: NDB_No, Length: 8618, dtype: int64\n"
     ]
    }
   ],
   "source": [
    "ndb_col = food_info['NDB_No']\n",
    "print(ndb_col)"
   ]
  },
  {
   "cell_type": "code",
   "execution_count": 12,
   "metadata": {},
   "outputs": [
    {
     "name": "stdout",
     "output_type": "stream",
     "text": [
      "      Zinc_(mg)  Copper_(mg)\n",
      "0          0.09        0.000\n",
      "1          0.05        0.016\n",
      "2          0.01        0.001\n",
      "3          2.66        0.040\n",
      "4          2.60        0.024\n",
      "5          2.38        0.019\n",
      "6          2.38        0.021\n",
      "7          2.94        0.024\n",
      "8          3.43        0.056\n",
      "9          2.79        0.042\n",
      "10         3.07        0.042\n",
      "11         0.40        0.029\n",
      "12         0.33        0.040\n",
      "13         0.47        0.030\n",
      "14         0.51        0.033\n",
      "15         0.38        0.028\n",
      "16         0.51        0.019\n",
      "17         3.75        0.036\n",
      "18         2.88        0.032\n",
      "19         3.50        0.025\n",
      "20         1.14        0.080\n",
      "21         3.90        0.036\n",
      "22         3.90        0.032\n",
      "23         2.10        0.021\n",
      "24         3.00        0.032\n",
      "25         2.92        0.011\n",
      "26         2.46        0.022\n",
      "27         2.76        0.025\n",
      "28         3.61        0.034\n",
      "29         2.81        0.031\n",
      "...         ...          ...\n",
      "8588       3.30        0.377\n",
      "8589       0.05        0.040\n",
      "8590       0.05        0.030\n",
      "8591       1.15        0.116\n",
      "8592       5.03        0.200\n",
      "8593       3.83        0.545\n",
      "8594       0.08        0.035\n",
      "8595       3.90        0.027\n",
      "8596       4.10        0.100\n",
      "8597       3.13        0.027\n",
      "8598       0.13        0.000\n",
      "8599       0.02        0.000\n",
      "8600       0.09        0.037\n",
      "8601       0.21        0.026\n",
      "8602       2.77        0.571\n",
      "8603       0.41        0.838\n",
      "8604       0.05        0.028\n",
      "8605       0.03        0.023\n",
      "8606       0.10        0.112\n",
      "8607       0.02        0.020\n",
      "8608       1.49        0.854\n",
      "8609       0.19        0.040\n",
      "8610       0.10        0.038\n",
      "8611       0.85        0.182\n",
      "8612       1.00        0.250\n",
      "8613       1.10        0.100\n",
      "8614       1.55        0.033\n",
      "8615       0.19        0.020\n",
      "8616       1.00        0.400\n",
      "8617       1.00        0.250\n",
      "\n",
      "[8618 rows x 2 columns]\n"
     ]
    }
   ],
   "source": [
    "columns = ['Zinc_(mg)','Copper_(mg)']\n",
    "print(food_info[columns])"
   ]
  },
  {
   "cell_type": "code",
   "execution_count": 17,
   "metadata": {},
   "outputs": [
    {
     "name": "stdout",
     "output_type": "stream",
     "text": [
      "['NDB_No', 'Shrt_Desc', 'Water_(g)', 'Energ_Kcal', 'Protein_(g)', 'Lipid_Tot_(g)', 'Ash_(g)', 'Carbohydrt_(g)', 'Fiber_TD_(g)', 'Sugar_Tot_(g)', 'Calcium_(mg)', 'Iron_(mg)', 'Magnesium_(mg)', 'Phosphorus_(mg)', 'Potassium_(mg)', 'Sodium_(mg)', 'Zinc_(mg)', 'Copper_(mg)', 'Manganese_(mg)', 'Selenium_(mcg)', 'Vit_C_(mg)', 'Thiamin_(mg)', 'Riboflavin_(mg)', 'Niacin_(mg)', 'Vit_B6_(mg)', 'Vit_B12_(mcg)', 'Vit_A_IU', 'Vit_A_RAE', 'Vit_E_(mg)', 'Vit_D_mcg', 'Vit_D_IU', 'Vit_K_(mcg)', 'FA_Sat_(g)', 'FA_Mono_(g)', 'FA_Poly_(g)', 'Cholestrl_(mg)']\n",
      "--------\n",
      "['Water_(g)', 'Protein_(g)', 'Lipid_Tot_(g)', 'Ash_(g)', 'Carbohydrt_(g)', 'Fiber_TD_(g)', 'Sugar_Tot_(g)', 'FA_Sat_(g)', 'FA_Mono_(g)', 'FA_Poly_(g)']\n"
     ]
    }
   ],
   "source": [
    "col_names = food_info.columns.tolist() #列名转 list\n",
    "print(col_names)\n",
    "print('--------')\n",
    "gram_col = []\n",
    "for c in col_names:\n",
    "    if c.endswith('(g)'): # endswith\n",
    "        gram_col.append(c)\n",
    "print(gram_col)"
   ]
  },
  {
   "cell_type": "code",
   "execution_count": 30,
   "metadata": {},
   "outputs": [
    {
     "name": "stdout",
     "output_type": "stream",
     "text": [
      "(8618, 38)\n",
      "(8618, 38)\n",
      "0    0.00002\n",
      "1    0.00016\n",
      "2    0.00000\n",
      "3    0.00031\n",
      "4    0.00043\n",
      "Name: Iron_(g), dtype: float64\n",
      "(8618, 38)\n",
      "8613    13115.00\n",
      "8614     7797.75\n",
      "8615     6994.00\n",
      "8616     7128.00\n",
      "8617     6986.50\n",
      "Name: water_energy, dtype: float64\n"
     ]
    }
   ],
   "source": [
    "water_energy = food_info['Water_(g)']*food_info['Energ_Kcal']\n",
    "iron_grams = food_info['Iron_(mg)']/1000\n",
    "print(food_info.shape)\n",
    "food_info['Iron_(g)'] = iron_grams\n",
    "print(food_info.shape)\n",
    "print(food_info['Iron_(g)'].head())\n",
    "food_info['water_energy'] = water_energy\n",
    "print(food_info.shape)\n",
    "print(food_info['water_energy'].tail())"
   ]
  },
  {
   "cell_type": "code",
   "execution_count": 33,
   "metadata": {},
   "outputs": [
    {
     "name": "stdout",
     "output_type": "stream",
     "text": [
      "21556.800000000003\n"
     ]
    }
   ],
   "source": [
    "max_energy = food_info['water_energy'].max()\n",
    "print(max_energy)"
   ]
  },
  {
   "cell_type": "code",
   "execution_count": 43,
   "metadata": {},
   "outputs": [
    {
     "name": "stdout",
     "output_type": "stream",
     "text": [
      "710     21556.80\n",
      "709     21428.90\n",
      "645     21282.60\n",
      "727     21055.84\n",
      "797     20786.38\n",
      "8405    20785.50\n",
      "8462    20700.00\n",
      "784     20693.80\n",
      "786     20368.36\n",
      "717     20345.68\n",
      "708     20272.00\n",
      "779     20187.45\n",
      "643     20187.45\n",
      "766     20182.93\n",
      "716     20030.14\n",
      "721     20030.14\n",
      "783     20030.14\n",
      "51      19909.95\n",
      "715     19842.15\n",
      "782     19842.15\n",
      "765     19792.85\n",
      "1106    19760.40\n",
      "5510    19744.68\n",
      "965     19690.66\n",
      "937     19594.00\n",
      "724     19470.00\n",
      "2805    19466.56\n",
      "8144    19461.60\n",
      "1117    19442.82\n",
      "5232    19392.90\n",
      "          ...   \n",
      "4408        0.00\n",
      "4356        0.00\n",
      "639         0.00\n",
      "638         0.00\n",
      "637         0.00\n",
      "4357        0.00\n",
      "631         0.00\n",
      "683         0.00\n",
      "4378        0.00\n",
      "657         0.00\n",
      "636         0.00\n",
      "8599        0.00\n",
      "635         0.00\n",
      "634         0.00\n",
      "292         0.00\n",
      "611         0.00\n",
      "789         0.00\n",
      "790         0.00\n",
      "4407        0.00\n",
      "633         0.00\n",
      "632         0.00\n",
      "4377        0.00\n",
      "610         0.00\n",
      "787         0.00\n",
      "1983         NaN\n",
      "6067         NaN\n",
      "6095         NaN\n",
      "6113         NaN\n",
      "6150         NaN\n",
      "7776         NaN\n",
      "Name: water_energy, Length: 8618, dtype: float64\n"
     ]
    }
   ],
   "source": [
    "food_info.sort_values('water_energy',inplace = True,ascending = False)\n",
    "#无论升序还是降序，nan 都在最后\n",
    "print(food_info['water_energy'])"
   ]
  },
  {
   "cell_type": "code",
   "execution_count": null,
   "metadata": {},
   "outputs": [],
   "source": []
  }
 ],
 "metadata": {
  "kernelspec": {
   "display_name": "Python 3",
   "language": "python",
   "name": "python3"
  },
  "language_info": {
   "codemirror_mode": {
    "name": "ipython",
    "version": 3
   },
   "file_extension": ".py",
   "mimetype": "text/x-python",
   "name": "python",
   "nbconvert_exporter": "python",
   "pygments_lexer": "ipython3",
   "version": "3.7.1"
  }
 },
 "nbformat": 4,
 "nbformat_minor": 2
}
