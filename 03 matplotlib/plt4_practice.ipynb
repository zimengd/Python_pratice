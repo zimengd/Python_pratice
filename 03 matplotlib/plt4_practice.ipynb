{
 "cells": [
  {
   "cell_type": "markdown",
   "metadata": {},
   "source": [
    "A histogram represents the frequency distribution \n",
    "of continuous variables. \n",
    "\n",
    "A bar graph is a diagrammatic comparison of discrete variables.\n",
    "\n"
   ]
  },
  {
   "cell_type": "markdown",
   "metadata": {},
   "source": [
    "## ax.hist(heights, range=(4, 5),bins=20)\n",
    "## ax.boxplot(heights)"
   ]
  },
  {
   "cell_type": "code",
   "execution_count": 11,
   "metadata": {},
   "outputs": [],
   "source": [
    "import pandas as pd\n",
    "import matplotlib.pyplot as plt\n",
    "reviews = pd.read_csv('fandango_scores.csv')\n",
    "cols = ['FILM', 'RT_user_norm', 'Metacritic_user_nom', 'IMDB_norm', 'Fandango_Ratingvalue']\n",
    "norm_reviews = reviews[cols]\n"
   ]
  },
  {
   "cell_type": "code",
   "execution_count": 12,
   "metadata": {},
   "outputs": [
    {
     "name": "stdout",
     "output_type": "stream",
     "text": [
      "2.7    2\n",
      "2.8    2\n",
      "2.9    5\n",
      "3.0    4\n",
      "3.1    3\n",
      "Name: Fandango_Ratingvalue, dtype: int64\n",
      "2.00    1\n",
      "2.10    1\n",
      "2.15    1\n",
      "2.20    1\n",
      "2.30    2\n",
      "Name: IMDB_norm, dtype: int64\n"
     ]
    }
   ],
   "source": [
    "fandango_distribution = norm_reviews['Fandango_Ratingvalue'].value_counts()\n",
    "fandango_distribution = fandango_distribution.sort_index()\n",
    "\n",
    "imdb_distribution = norm_reviews['IMDB_norm'].value_counts()\n",
    "imdb_distribution = imdb_distribution.sort_index()\n",
    "\n",
    "print(fandango_distribution.head())\n",
    "print(imdb_distribution.head())"
   ]
  },
  {
   "cell_type": "markdown",
   "metadata": {},
   "source": [
    "## bins 频率区间数量\n",
    "## range = (,) 频率区间"
   ]
  },
  {
   "cell_type": "code",
   "execution_count": 8,
   "metadata": {},
   "outputs": [
    {
     "data": {
      "text/plain": [
       "(array([ 7.,  0., 16.,  0., 12.,  0., 11.,  0.,  7.,  0.,  9.,  0.,  4.,\n",
       "         0.,  0.,  0.,  3.,  0.,  0.,  0.]),\n",
       " array([4.  , 4.05, 4.1 , 4.15, 4.2 , 4.25, 4.3 , 4.35, 4.4 , 4.45, 4.5 ,\n",
       "        4.55, 4.6 , 4.65, 4.7 , 4.75, 4.8 , 4.85, 4.9 , 4.95, 5.  ]),\n",
       " <a list of 20 Patch objects>)"
      ]
     },
     "execution_count": 8,
     "metadata": {},
     "output_type": "execute_result"
    },
    {
     "data": {
      "image/png": "[encoded data removed]",
      "text/plain": [
       "<Figure size 432x288 with 1 Axes>"
      ]
     },
     "metadata": {
      "needs_background": "light"
     },
     "output_type": "display_data"
    }
   ],
   "source": [
    "fig, ax = plt.subplots()\n",
    "#ax.hist(norm_reviews['Fandango_Ratingvalue'])\n",
    "#ax.hist(norm_reviews['Fandango_Ratingvalue'],bins=20)\n",
    "ax.hist(norm_reviews['Fandango_Ratingvalue'], range=(4, 5),bins=20)\n",
    "plt.show()"
   ]
  },
  {
   "cell_type": "markdown",
   "metadata": {},
   "source": [
    "## DataFrame.set_ylim() \n",
    "## y 轴的刻度区间"
   ]
  },
  {
   "cell_type": "code",
   "execution_count": 9,
   "metadata": {},
   "outputs": [
    {
     "data": {
      "text/plain": [
       "(array([ 0.,  0.,  0.,  0.,  0.,  0.,  0.,  0.,  0.,  0.,  2.,  7., 12.,\n",
       "        13., 26., 17., 35., 18., 13.,  3.]),\n",
       " array([0.  , 0.25, 0.5 , 0.75, 1.  , 1.25, 1.5 , 1.75, 2.  , 2.25, 2.5 ,\n",
       "        2.75, 3.  , 3.25, 3.5 , 3.75, 4.  , 4.25, 4.5 , 4.75, 5.  ]),\n",
       " <a list of 20 Patch objects>)"
      ]
     },
     "execution_count": 9,
     "metadata": {},
     "output_type": "execute_result"
    },
    {
     "data": {
      "text/plain": [
       "Text(0.5, 1.0, 'Distribution of Fandango Ratings')"
      ]
     },
     "execution_count": 9,
     "metadata": {},
     "output_type": "execute_result"
    },
    {
     "data": {
      "text/plain": [
       "(0, 50)"
      ]
     },
     "execution_count": 9,
     "metadata": {},
     "output_type": "execute_result"
    },
    {
     "data": {
      "text/plain": [
       "(array([ 0.,  0.,  0.,  0.,  4.,  6.,  6.,  5.,  5., 10., 13., 10., 10.,\n",
       "        13.,  7., 12., 18., 18.,  9.,  0.]),\n",
       " array([0.  , 0.25, 0.5 , 0.75, 1.  , 1.25, 1.5 , 1.75, 2.  , 2.25, 2.5 ,\n",
       "        2.75, 3.  , 3.25, 3.5 , 3.75, 4.  , 4.25, 4.5 , 4.75, 5.  ]),\n",
       " <a list of 20 Patch objects>)"
      ]
     },
     "execution_count": 9,
     "metadata": {},
     "output_type": "execute_result"
    },
    {
     "data": {
      "text/plain": [
       "Text(0.5, 1.0, 'Distribution of Rotten Tomatoes Ratings')"
      ]
     },
     "execution_count": 9,
     "metadata": {},
     "output_type": "execute_result"
    },
    {
     "data": {
      "text/plain": [
       "(0, 50)"
      ]
     },
     "execution_count": 9,
     "metadata": {},
     "output_type": "execute_result"
    },
    {
     "data": {
      "text/plain": [
       "(array([ 0.,  0.,  0.,  0.,  2.,  1.,  5.,  5.,  3.,  7., 11., 10., 15.,\n",
       "        20., 26., 19., 12.,  9.,  0.,  1.]),\n",
       " array([0.  , 0.25, 0.5 , 0.75, 1.  , 1.25, 1.5 , 1.75, 2.  , 2.25, 2.5 ,\n",
       "        2.75, 3.  , 3.25, 3.5 , 3.75, 4.  , 4.25, 4.5 , 4.75, 5.  ]),\n",
       " <a list of 20 Patch objects>)"
      ]
     },
     "execution_count": 9,
     "metadata": {},
     "output_type": "execute_result"
    },
    {
     "data": {
      "text/plain": [
       "Text(0.5, 1.0, 'Distribution of Metacritic Ratings')"
      ]
     },
     "execution_count": 9,
     "metadata": {},
     "output_type": "execute_result"
    },
    {
     "data": {
      "text/plain": [
       "(0, 50)"
      ]
     },
     "execution_count": 9,
     "metadata": {},
     "output_type": "execute_result"
    },
    {
     "data": {
      "text/plain": [
       "(array([ 0.,  0.,  0.,  0.,  0.,  0.,  0.,  0.,  4.,  4.,  8., 12., 22.,\n",
       "        28., 34., 24.,  9.,  1.,  0.,  0.]),\n",
       " array([0.  , 0.25, 0.5 , 0.75, 1.  , 1.25, 1.5 , 1.75, 2.  , 2.25, 2.5 ,\n",
       "        2.75, 3.  , 3.25, 3.5 , 3.75, 4.  , 4.25, 4.5 , 4.75, 5.  ]),\n",
       " <a list of 20 Patch objects>)"
      ]
     },
     "execution_count": 9,
     "metadata": {},
     "output_type": "execute_result"
    },
    {
     "data": {
      "text/plain": [
       "Text(0.5, 1.0, 'Distribution of IMDB Ratings')"
      ]
     },
     "execution_count": 9,
     "metadata": {},
     "output_type": "execute_result"
    },
    {
     "data": {
      "text/plain": [
       "(0, 50)"
      ]
     },
     "execution_count": 9,
     "metadata": {},
     "output_type": "execute_result"
    },
    {
     "data": {
      "image/png": "[encoded data removed]",
      "text/plain": [
       "<Figure size 360x1440 with 4 Axes>"
      ]
     },
     "metadata": {
      "needs_background": "light"
     },
     "output_type": "display_data"
    }
   ],
   "source": [
    "fig = plt.figure(figsize=(5,20))\n",
    "ax1 = fig.add_subplot(4,1,1)\n",
    "ax2 = fig.add_subplot(4,1,2)\n",
    "ax3 = fig.add_subplot(4,1,3)\n",
    "ax4 = fig.add_subplot(4,1,4)\n",
    "ax1.hist(norm_reviews['Fandango_Ratingvalue'], bins=20, range=(0, 5))\n",
    "ax1.set_title('Distribution of Fandango Ratings')\n",
    "ax1.set_ylim(0, 50)\n",
    "\n",
    "ax2.hist(norm_reviews['RT_user_norm'], 20, range=(0, 5))\n",
    "ax2.set_title('Distribution of Rotten Tomatoes Ratings')\n",
    "ax2.set_ylim(0, 50)\n",
    "\n",
    "ax3.hist(norm_reviews['Metacritic_user_nom'], 20, range=(0, 5))\n",
    "ax3.set_title('Distribution of Metacritic Ratings')\n",
    "ax3.set_ylim(0, 50)\n",
    "\n",
    "ax4.hist(norm_reviews['IMDB_norm'], 20, range=(0, 5))\n",
    "ax4.set_title('Distribution of IMDB Ratings')\n",
    "ax4.set_ylim(0, 50)\n",
    "\n",
    "plt.show()"
   ]
  },
  {
   "cell_type": "markdown",
   "metadata": {},
   "source": [
    "## ax.boxplot(heights)"
   ]
  },
  {
   "cell_type": "code",
   "execution_count": 10,
   "metadata": {},
   "outputs": [
    {
     "data": {
      "text/plain": [
       "{'whiskers': [<matplotlib.lines.Line2D at 0x11dca7668>,\n",
       "  <matplotlib.lines.Line2D at 0x11dca79b0>,\n",
       "  <matplotlib.lines.Line2D at 0x11dcb0e10>,\n",
       "  <matplotlib.lines.Line2D at 0x11dcb0ef0>,\n",
       "  <matplotlib.lines.Line2D at 0x11dcc2550>,\n",
       "  <matplotlib.lines.Line2D at 0x11dcc2898>,\n",
       "  <matplotlib.lines.Line2D at 0x11dccdc88>,\n",
       "  <matplotlib.lines.Line2D at 0x11dccdfd0>],\n",
       " 'caps': [<matplotlib.lines.Line2D at 0x11dca7cf8>,\n",
       "  <matplotlib.lines.Line2D at 0x11dca7dd8>,\n",
       "  <matplotlib.lines.Line2D at 0x11dcb94a8>,\n",
       "  <matplotlib.lines.Line2D at 0x11dcb97f0>,\n",
       "  <matplotlib.lines.Line2D at 0x11dcc2be0>,\n",
       "  <matplotlib.lines.Line2D at 0x11dcc2f28>,\n",
       "  <matplotlib.lines.Line2D at 0x11dcd7358>,\n",
       "  <matplotlib.lines.Line2D at 0x11dcd76a0>],\n",
       " 'boxes': [<matplotlib.lines.Line2D at 0x11dca7240>,\n",
       "  <matplotlib.lines.Line2D at 0x11dcb0a90>,\n",
       "  <matplotlib.lines.Line2D at 0x11dcb9f28>,\n",
       "  <matplotlib.lines.Line2D at 0x11dccd940>],\n",
       " 'medians': [<matplotlib.lines.Line2D at 0x11dcb03c8>,\n",
       "  <matplotlib.lines.Line2D at 0x11dcb9b38>,\n",
       "  <matplotlib.lines.Line2D at 0x11dccd2b0>,\n",
       "  <matplotlib.lines.Line2D at 0x11dcd79e8>],\n",
       " 'fliers': [<matplotlib.lines.Line2D at 0x11dcb0710>,\n",
       "  <matplotlib.lines.Line2D at 0x11dcb9e80>,\n",
       "  <matplotlib.lines.Line2D at 0x11dccd5f8>,\n",
       "  <matplotlib.lines.Line2D at 0x11dcd7d30>],\n",
       " 'means': []}"
      ]
     },
     "execution_count": 10,
     "metadata": {},
     "output_type": "execute_result"
    },
    {
     "data": {
      "text/plain": [
       "[Text(0, 0, 'RT_user_norm'),\n",
       " Text(0, 0, 'Metacritic_user_nom'),\n",
       " Text(0, 0, 'IMDB_norm'),\n",
       " Text(0, 0, 'Fandango_Ratingvalue')]"
      ]
     },
     "execution_count": 10,
     "metadata": {},
     "output_type": "execute_result"
    },
    {
     "data": {
      "text/plain": [
       "(0, 5)"
      ]
     },
     "execution_count": 10,
     "metadata": {},
     "output_type": "execute_result"
    },
    {
     "data": {
      "image/png": "[encoded data removed]",
      "text/plain": [
       "<Figure size 432x288 with 1 Axes>"
      ]
     },
     "metadata": {
      "needs_background": "light"
     },
     "output_type": "display_data"
    }
   ],
   "source": [
    "num_cols = ['RT_user_norm', 'Metacritic_user_nom', 'IMDB_norm', 'Fandango_Ratingvalue']\n",
    "fig, ax = plt.subplots()\n",
    "ax.boxplot(norm_reviews[num_cols].values)\n",
    "ax.set_xticklabels(num_cols, rotation=90)\n",
    "ax.set_ylim(0,5)\n",
    "plt.show()"
   ]
  },
  {
   "cell_type": "code",
   "execution_count": null,
   "metadata": {},
   "outputs": [],
   "source": []
  }
 ],
 "metadata": {
  "kernelspec": {
   "display_name": "Python 3",
   "language": "python",
   "name": "python3"
  },
  "language_info": {
   "codemirror_mode": {
    "name": "ipython",
    "version": 3
   },
   "file_extension": ".py",
   "mimetype": "text/x-python",
   "name": "python",
   "nbconvert_exporter": "python",
   "pygments_lexer": "ipython3",
   "version": "3.7.1"
  }
 },
 "nbformat": 4,
 "nbformat_minor": 2
}
